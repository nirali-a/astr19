{
 "cells": [
  {
   "cell_type": "code",
   "execution_count": null,
   "id": "bccddc11-de2c-4781-934b-5236a3796fc3",
   "metadata": {},
   "outputs": [],
   "source": [
    "import numpy as np\n",
    "import sep "
   ]
  },
  {
   "cell_type": "code",
   "execution_count": null,
   "id": "8c7d38d1-fb19-473e-bb13-142b870afe09",
   "metadata": {},
   "outputs": [],
   "source": [
    "from astropy.io import fits\n",
    "import matplotlib.pyplot as plt\n",
    "from matplotlib import rcParams\n",
    "from matplotlib.patches import Ellipse\n",
    "\n",
    "%matplotlib inline\n",
    "\n",
    "rcParams['figure.figsize'] = [10., 8.]"
   ]
  },
  {
   "cell_type": "code",
   "execution_count": null,
   "id": "b0844625-678a-4fff-a3cf-d57edc37d911",
   "metadata": {},
   "outputs": [],
   "source": [
    "# Read image into standard 2-d numpy array\n",
    "hdul = fits.open(\"../data/image.fits\")\n",
    "data = hdul[0].data\n",
    "hdul.close()"
   ]
  },
  {
   "cell_type": "code",
   "execution_count": null,
   "id": "891ac0a3-5948-474c-8dff-fdc1c6a5c233",
   "metadata": {},
   "outputs": [],
   "source": [
    "# Show the image and save as PNG\n",
    "m, s = np.mean(data), np.std(data)\n",
    "plt.imshow(data, interpolation='nearest', cmap='gray', vmin=m-s, vmax=m+s, origin='lower')\n",
    "plt.colorbar()\n",
    "plt.savefig(\"image_original.png\")  # Save the figure as PNG\n",
    "plt.show()"
   ]
  },
  {
   "cell_type": "code",
   "execution_count": null,
   "id": "42f24f61-c1cc-4228-9ff0-43ee457f91e9",
   "metadata": {},
   "outputs": [],
   "source": [
    "# Measure a spatially varying background on the image\n",
    "bkg = sep.Background(data)\n",
    "\n",
    "# Get a \"global\" mean and noise of the image background:\n",
    "print(bkg.globalback)\n",
    "print(bkg.globalrms)"
   ]
  },
  {
   "cell_type": "code",
   "execution_count": null,
   "id": "0f562574-cd11-4bf8-b6f0-fe3245ee7156",
   "metadata": {},
   "outputs": [],
   "source": [
    "# Evaluate background as 2-d array, same size as original image\n",
    "bkg_image = bkg.back()\n",
    "\n",
    "# Show the background and save as PNG\n",
    "plt.imshow(bkg_image, interpolation='nearest', cmap='gray', origin='lower')\n",
    "plt.colorbar()\n",
    "plt.savefig(\"background_image.png\")  # Save the figure as PNG\n",
    "plt.show()"
   ]
  },
  {
   "cell_type": "code",
   "execution_count": null,
   "id": "fc22874a-9f0f-4290-b447-fed6cc2f2b4e",
   "metadata": {},
   "outputs": [],
   "source": [
    "# Evaluate the background noise as 2-d array, same size as original image\n",
    "bkg_rms = bkg.rms()\n",
    "\n",
    "# Show the background noise and save as PNG\n",
    "plt.imshow(bkg_rms, interpolation='nearest', cmap='gray', origin='lower')\n",
    "plt.colorbar()\n",
    "plt.savefig(\"background_noise.png\")  # Save the figure as PNG\n",
    "plt.show()"
   ]
  },
  {
   "cell_type": "code",
   "execution_count": null,
   "id": "bb2cf342-c17c-4504-b3a3-ccddcf3024fe",
   "metadata": {},
   "outputs": [],
   "source": [
    "# Subtract the background\n",
    "data_sub = data - bkg"
   ]
  },
  {
   "cell_type": "markdown",
   "id": "e1b89c93-3822-4128-a06d-083b9c0e65a2",
   "metadata": {},
   "source": [
    "Object Detection"
   ]
  },
  {
   "cell_type": "code",
   "execution_count": null,
   "id": "456e5f50-67ac-430b-b319-cdc2af138575",
   "metadata": {},
   "outputs": [],
   "source": [
    "# Object Detection\n",
    "objects = sep.extract(data_sub, 1.5, err=bkg.globalrms)\n",
    "\n",
    "# How many objects were detected\n",
    "print(len(objects))"
   ]
  },
  {
   "cell_type": "code",
   "execution_count": null,
   "id": "c426d51e-1d01-4132-871c-94650a824836",
   "metadata": {},
   "outputs": [],
   "source": [
    "# Plot background-subtracted image\n",
    "fig, ax = plt.subplots()\n",
    "m, s = np.mean(data_sub), np.std(data_sub)\n",
    "im = ax.imshow(data_sub, interpolation='nearest', cmap='gray',\n",
    "               vmin=m-s, vmax=m+s, origin='lower')"
   ]
  },
  {
   "cell_type": "code",
   "execution_count": null,
   "id": "004ed1d7-cff4-4429-9d38-e4690132338f",
   "metadata": {},
   "outputs": [],
   "source": [
    "# Plot an ellipse for each object\n",
    "for i in range(len(objects)):\n",
    "    e = Ellipse(xy=(objects['x'][i], objects['y'][i]),\n",
    "                width=6*objects['a'][i],\n",
    "                height=6*objects['b'][i],\n",
    "                angle=objects['theta'][i] * 180. / np.pi)\n",
    "    e.set_facecolor('none')\n",
    "    e.set_edgecolor('red')\n",
    "    ax.add_artist(e)"
   ]
  },
  {
   "cell_type": "code",
   "execution_count": null,
   "id": "210d3662-4282-4b22-8f25-15c6f7090109",
   "metadata": {},
   "outputs": [],
   "source": [
    "# Save the figure with detected objects as PNG\n",
    "plt.savefig(\"detected_objects.png\")  # Save the figure as PNG\n",
    "plt.show()"
   ]
  },
  {
   "cell_type": "code",
   "execution_count": null,
   "id": "5688893a-966e-40c7-88ae-09bc213a6729",
   "metadata": {},
   "outputs": [],
   "source": [
    "# Available fields\n",
    "print(objects.dtype.names)\n",
    "\n",
    "flux, fluxerr, flag = sep.sum_circle(data_sub, objects['x'], objects['y'],\n",
    "                                     3.0, err=bkg.globalrms, gain=1.0)"
   ]
  },
  {
   "cell_type": "code",
   "execution_count": null,
   "id": "f073e7a2-121b-42db-8d03-1efa8dcebdbf",
   "metadata": {},
   "outputs": [],
   "source": [
    "# Show the first 10 objects results\n",
    "for i in range(10):\n",
    "    print(\"object {:d}: flux = {:f} +/- {:f}\".format(i, flux[i], fluxerr[i]))"
   ]
  }
 ],
 "metadata": {
  "kernelspec": {
   "display_name": "Python 3 (ipykernel)",
   "language": "python",
   "name": "python3"
  },
  "language_info": {
   "codemirror_mode": {
    "name": "ipython",
    "version": 3
   },
   "file_extension": ".py",
   "mimetype": "text/x-python",
   "name": "python",
   "nbconvert_exporter": "python",
   "pygments_lexer": "ipython3",
   "version": "3.12.1"
  }
 },
 "nbformat": 4,
 "nbformat_minor": 5
}
