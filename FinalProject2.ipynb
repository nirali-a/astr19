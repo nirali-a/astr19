{
 "cells": [
  {
   "cell_type": "markdown",
   "id": "23f833f7-35b7-498b-bdfa-902ac529a6d3",
   "metadata": {},
   "source": [
    "Analyzing hlsp_hudf12_hst_wfc3ir_udfmain_f105w_v1.0_drz.fits"
   ]
  },
  {
   "cell_type": "code",
   "execution_count": null,
   "id": "1c28f918-9c71-45aa-b4a4-22b1a6c0baa2",
   "metadata": {},
   "outputs": [],
   "source": [
    "import numpy as np\n",
    "import sep "
   ]
  },
  {
   "cell_type": "code",
   "execution_count": null,
   "id": "48ff2387-5aa0-4a9b-a5c9-ddbe511bedb9",
   "metadata": {},
   "outputs": [],
   "source": [
    "from astropy.io import fits\n",
    "import matplotlib.pyplot as plt\n",
    "from matplotlib import rcParams\n",
    "from matplotlib.patches import Ellipse\n",
    "\n",
    "%matplotlib inline\n",
    "\n",
    "rcParams['figure.figsize'] = [10., 8.]"
   ]
  },
  {
   "cell_type": "code",
   "execution_count": null,
   "id": "092d80a7-abff-4e24-968f-4a5eb9fd84ab",
   "metadata": {},
   "outputs": [],
   "source": [
    "# Read image into standard 2-d numpy array\n",
    "hdul = fits.open(\"hlsp_hudf12_hst_wfc3ir_udfmain_f105w_v1.0_drz.fits\")\n",
    "data = hdul[0].data\n",
    "hdul.close()"
   ]
  },
  {
   "cell_type": "code",
   "execution_count": null,
   "id": "d3b10aa8-7eff-4773-be01-3a2a79f66a93",
   "metadata": {},
   "outputs": [],
   "source": [
    "# Show the image and save as PNG\n",
    "m, s = np.mean(data), np.std(data)\n",
    "plt.imshow(data, interpolation='nearest', cmap='gray', vmin=m-s, vmax=m+s, origin='lower')\n",
    "plt.colorbar()\n",
    "plt.savefig(\"image_original.png\")  # Save the figure as PNG\n",
    "plt.show()"
   ]
  },
  {
   "cell_type": "code",
   "execution_count": null,
   "id": "5b82b2b0-9c48-417d-9bcc-2979fa0e6fd5",
   "metadata": {},
   "outputs": [],
   "source": [
    "# Measure a spatially varying background on the image\n",
    "bkg = sep.Background(data)"
   ]
  },
  {
   "cell_type": "code",
   "execution_count": null,
   "id": "2f409cd6-8eec-43df-9847-718927f74d98",
   "metadata": {},
   "outputs": [],
   "source": [
    "# Get a \"global\" mean and noise of the image background:\n",
    "print(bkg.globalback)\n",
    "print(bkg.globalrms)"
   ]
  },
  {
   "cell_type": "code",
   "execution_count": null,
   "id": "694993f3-44f7-44f5-bd77-5a2f4fa214c7",
   "metadata": {},
   "outputs": [],
   "source": [
    "# Evaluate background as 2-d array, same size as original image\n",
    "bkg_image = bkg.back()\n",
    "\n",
    "# Show the background and save as PNG\n",
    "plt.imshow(bkg_image, interpolation='nearest', cmap='gray', origin='lower')\n",
    "plt.colorbar()\n",
    "plt.savefig(\"background_image.png\")  # Save the figure as PNG\n",
    "plt.show()"
   ]
  },
  {
   "cell_type": "code",
   "execution_count": null,
   "id": "67807bb8-0019-475e-8226-baa7cf747c9f",
   "metadata": {},
   "outputs": [],
   "source": [
    "# Evaluate the background noise as 2-d array, same size as original image\n",
    "bkg_rms = bkg.rms()\n",
    "\n",
    "# Show the background noise and save as PNG\n",
    "plt.imshow(bkg_rms, interpolation='nearest', cmap='gray', origin='lower')\n",
    "plt.colorbar()\n",
    "plt.savefig(\"background_noise.png\")  # Save the figure as PNG\n",
    "plt.show()"
   ]
  },
  {
   "cell_type": "code",
   "execution_count": null,
   "id": "e145f488-b30f-4f55-afe6-ec2ea683aa6f",
   "metadata": {},
   "outputs": [],
   "source": [
    "# Subtract the background\n",
    "data_sub = data - bkg"
   ]
  },
  {
   "cell_type": "markdown",
   "id": "4a02161a-d89a-4cb5-b081-76cfec447bc2",
   "metadata": {},
   "source": [
    "Object Detection"
   ]
  },
  {
   "cell_type": "code",
   "execution_count": null,
   "id": "d4ed6d87-18e2-4ae2-b47a-a13910eeedff",
   "metadata": {},
   "outputs": [],
   "source": [
    "# Object Detection\n",
    "objects = sep.extract(data_sub, 1.5, err=bkg.globalrms)\n",
    "\n",
    "# How many objects were detected\n",
    "print(len(objects))"
   ]
  },
  {
   "cell_type": "code",
   "execution_count": null,
   "id": "4ab8f712-7487-4aaf-9ac8-c9795aea1c67",
   "metadata": {},
   "outputs": [],
   "source": [
    "# Plot background-subtracted image\n",
    "fig, ax = plt.subplots()\n",
    "m, s = np.mean(data_sub), np.std(data_sub)\n",
    "im = ax.imshow(data_sub, interpolation='nearest', cmap='gray',\n",
    "               vmin=m-s, vmax=m+s, origin='lower')"
   ]
  },
  {
   "cell_type": "code",
   "execution_count": null,
   "id": "e37e9a60-e828-442f-a794-7ed5f521aa5b",
   "metadata": {},
   "outputs": [],
   "source": [
    "# Plot an ellipse for each object\n",
    "for i in range(len(objects)):\n",
    "    e = Ellipse(xy=(objects['x'][i], objects['y'][i]),\n",
    "                width=6*objects['a'][i],\n",
    "                height=6*objects['b'][i],\n",
    "                angle=objects['theta'][i] * 180. / np.pi)\n",
    "    e.set_facecolor('none')\n",
    "    e.set_edgecolor('red')\n",
    "    ax.add_artist(e)"
   ]
  },
  {
   "cell_type": "code",
   "execution_count": null,
   "id": "e216fdc4-419c-4b7d-a2c7-ec755504b1e4",
   "metadata": {},
   "outputs": [],
   "source": [
    "# Save the figure with detected objects as PNG\n",
    "plt.savefig(\"detected_objects.png\")  # Save the figure as PNG\n",
    "plt.show()"
   ]
  },
  {
   "cell_type": "code",
   "execution_count": null,
   "id": "47aab719-366d-4066-8483-86c79e4ed74f",
   "metadata": {},
   "outputs": [],
   "source": [
    "# Available fields\n",
    "print(objects.dtype.names)\n",
    "\n",
    "flux, fluxerr, flag = sep.sum_circle(data_sub, objects['x'], objects['y'],\n",
    "                                     3.0, err=bkg.globalrms, gain=1.0)"
   ]
  },
  {
   "cell_type": "code",
   "execution_count": null,
   "id": "d611ad60-7da3-420e-98d4-8d1815ba2950",
   "metadata": {},
   "outputs": [],
   "source": [
    "# Show the first 10 objects results\n",
    "for i in range(10):\n",
    "    print(\"object {:d}: flux = {:f} +/- {:f}\".format(i, flux[i], fluxerr[i]))"
   ]
  },
  {
   "cell_type": "markdown",
   "id": "dd9a731d-3cc2-4d91-81f4-d1afcbdc8c6b",
   "metadata": {},
   "source": [
    "Plotting a Histogram of Fluxes of Detected Sources"
   ]
  },
  {
   "cell_type": "code",
   "execution_count": null,
   "id": "7dc0b8ba-709f-4d86-9c2e-2c407140cfe8",
   "metadata": {},
   "outputs": [],
   "source": [
    "# Object Detection\n",
    "objects = sep.extract(data_sub, 1.5, err=bkg.globalrms)"
   ]
  },
  {
   "cell_type": "code",
   "execution_count": null,
   "id": "9fcedade-a490-4d8b-b750-468a205bf89a",
   "metadata": {},
   "outputs": [],
   "source": [
    "# How many objects were detected\n",
    "num_sources = len(objects)\n",
    "print(\"Number of sources detected:\", num_sources)"
   ]
  },
  {
   "cell_type": "code",
   "execution_count": null,
   "id": "3c26bd0b-39a5-4bf2-ac78-012406626fbe",
   "metadata": {},
   "outputs": [],
   "source": [
    "# Extract fluxes of detected sources\n",
    "fluxes = objects['flux']"
   ]
  },
  {
   "cell_type": "code",
   "execution_count": null,
   "id": "1cfda2b9-0614-46f9-90c6-901acaac7398",
   "metadata": {},
   "outputs": [],
   "source": [
    "# Plot histogram of fluxes\n",
    "plt.hist(fluxes, bins=50, color='blue', alpha=0.7)\n",
    "plt.xlabel('Flux')\n",
    "plt.ylabel('Frequency')\n",
    "plt.title('Histogram of Fluxes of Detected Sources')\n",
    "plt.grid(True)\n",
    "plt.show()"
   ]
  }
 ],
 "metadata": {
  "kernelspec": {
   "display_name": "Python 3 (ipykernel)",
   "language": "python",
   "name": "python3"
  },
  "language_info": {
   "codemirror_mode": {
    "name": "ipython",
    "version": 3
   },
   "file_extension": ".py",
   "mimetype": "text/x-python",
   "name": "python",
   "nbconvert_exporter": "python",
   "pygments_lexer": "ipython3",
   "version": "3.12.1"
  }
 },
 "nbformat": 4,
 "nbformat_minor": 5
}
